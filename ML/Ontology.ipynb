{
 "cells": [
  {
   "cell_type": "code",
   "execution_count": 6,
   "metadata": {},
   "outputs": [],
   "source": [
    "import pandas as pd\n"
   ]
  },
  {
   "cell_type": "code",
   "execution_count": 7,
   "metadata": {},
   "outputs": [
    {
     "data": {
      "text/html": [
       "<div>\n",
       "<style scoped>\n",
       "    .dataframe tbody tr th:only-of-type {\n",
       "        vertical-align: middle;\n",
       "    }\n",
       "\n",
       "    .dataframe tbody tr th {\n",
       "        vertical-align: top;\n",
       "    }\n",
       "\n",
       "    .dataframe thead th {\n",
       "        text-align: right;\n",
       "    }\n",
       "</style>\n",
       "<table border=\"1\" class=\"dataframe\">\n",
       "  <thead>\n",
       "    <tr style=\"text-align: right;\">\n",
       "      <th></th>\n",
       "      <th>Id</th>\n",
       "      <th>MSSubClass</th>\n",
       "      <th>MSZoning</th>\n",
       "      <th>LotFrontage</th>\n",
       "      <th>LotArea</th>\n",
       "      <th>Street</th>\n",
       "      <th>Alley</th>\n",
       "      <th>LotShape</th>\n",
       "      <th>LandContour</th>\n",
       "      <th>Utilities</th>\n",
       "      <th>...</th>\n",
       "      <th>ScreenPorch</th>\n",
       "      <th>PoolArea</th>\n",
       "      <th>PoolQC</th>\n",
       "      <th>Fence</th>\n",
       "      <th>MiscFeature</th>\n",
       "      <th>MiscVal</th>\n",
       "      <th>MoSold</th>\n",
       "      <th>YrSold</th>\n",
       "      <th>SaleType</th>\n",
       "      <th>SaleCondition</th>\n",
       "    </tr>\n",
       "  </thead>\n",
       "  <tbody>\n",
       "    <tr>\n",
       "      <th>0</th>\n",
       "      <td>1461</td>\n",
       "      <td>20</td>\n",
       "      <td>RH</td>\n",
       "      <td>80.0</td>\n",
       "      <td>11622</td>\n",
       "      <td>Pave</td>\n",
       "      <td>NaN</td>\n",
       "      <td>Reg</td>\n",
       "      <td>Lvl</td>\n",
       "      <td>AllPub</td>\n",
       "      <td>...</td>\n",
       "      <td>120</td>\n",
       "      <td>0</td>\n",
       "      <td>NaN</td>\n",
       "      <td>MnPrv</td>\n",
       "      <td>NaN</td>\n",
       "      <td>0</td>\n",
       "      <td>6</td>\n",
       "      <td>2010</td>\n",
       "      <td>WD</td>\n",
       "      <td>Normal</td>\n",
       "    </tr>\n",
       "    <tr>\n",
       "      <th>1</th>\n",
       "      <td>1462</td>\n",
       "      <td>20</td>\n",
       "      <td>RL</td>\n",
       "      <td>81.0</td>\n",
       "      <td>14267</td>\n",
       "      <td>Pave</td>\n",
       "      <td>NaN</td>\n",
       "      <td>IR1</td>\n",
       "      <td>Lvl</td>\n",
       "      <td>AllPub</td>\n",
       "      <td>...</td>\n",
       "      <td>0</td>\n",
       "      <td>0</td>\n",
       "      <td>NaN</td>\n",
       "      <td>NaN</td>\n",
       "      <td>Gar2</td>\n",
       "      <td>12500</td>\n",
       "      <td>6</td>\n",
       "      <td>2010</td>\n",
       "      <td>WD</td>\n",
       "      <td>Normal</td>\n",
       "    </tr>\n",
       "    <tr>\n",
       "      <th>2</th>\n",
       "      <td>1463</td>\n",
       "      <td>60</td>\n",
       "      <td>RL</td>\n",
       "      <td>74.0</td>\n",
       "      <td>13830</td>\n",
       "      <td>Pave</td>\n",
       "      <td>NaN</td>\n",
       "      <td>IR1</td>\n",
       "      <td>Lvl</td>\n",
       "      <td>AllPub</td>\n",
       "      <td>...</td>\n",
       "      <td>0</td>\n",
       "      <td>0</td>\n",
       "      <td>NaN</td>\n",
       "      <td>MnPrv</td>\n",
       "      <td>NaN</td>\n",
       "      <td>0</td>\n",
       "      <td>3</td>\n",
       "      <td>2010</td>\n",
       "      <td>WD</td>\n",
       "      <td>Normal</td>\n",
       "    </tr>\n",
       "    <tr>\n",
       "      <th>3</th>\n",
       "      <td>1464</td>\n",
       "      <td>60</td>\n",
       "      <td>RL</td>\n",
       "      <td>78.0</td>\n",
       "      <td>9978</td>\n",
       "      <td>Pave</td>\n",
       "      <td>NaN</td>\n",
       "      <td>IR1</td>\n",
       "      <td>Lvl</td>\n",
       "      <td>AllPub</td>\n",
       "      <td>...</td>\n",
       "      <td>0</td>\n",
       "      <td>0</td>\n",
       "      <td>NaN</td>\n",
       "      <td>NaN</td>\n",
       "      <td>NaN</td>\n",
       "      <td>0</td>\n",
       "      <td>6</td>\n",
       "      <td>2010</td>\n",
       "      <td>WD</td>\n",
       "      <td>Normal</td>\n",
       "    </tr>\n",
       "    <tr>\n",
       "      <th>4</th>\n",
       "      <td>1465</td>\n",
       "      <td>120</td>\n",
       "      <td>RL</td>\n",
       "      <td>43.0</td>\n",
       "      <td>5005</td>\n",
       "      <td>Pave</td>\n",
       "      <td>NaN</td>\n",
       "      <td>IR1</td>\n",
       "      <td>HLS</td>\n",
       "      <td>AllPub</td>\n",
       "      <td>...</td>\n",
       "      <td>144</td>\n",
       "      <td>0</td>\n",
       "      <td>NaN</td>\n",
       "      <td>NaN</td>\n",
       "      <td>NaN</td>\n",
       "      <td>0</td>\n",
       "      <td>1</td>\n",
       "      <td>2010</td>\n",
       "      <td>WD</td>\n",
       "      <td>Normal</td>\n",
       "    </tr>\n",
       "  </tbody>\n",
       "</table>\n",
       "<p>5 rows × 80 columns</p>\n",
       "</div>"
      ],
      "text/plain": [
       "     Id  MSSubClass MSZoning  LotFrontage  LotArea Street Alley LotShape  \\\n",
       "0  1461          20       RH         80.0    11622   Pave   NaN      Reg   \n",
       "1  1462          20       RL         81.0    14267   Pave   NaN      IR1   \n",
       "2  1463          60       RL         74.0    13830   Pave   NaN      IR1   \n",
       "3  1464          60       RL         78.0     9978   Pave   NaN      IR1   \n",
       "4  1465         120       RL         43.0     5005   Pave   NaN      IR1   \n",
       "\n",
       "  LandContour Utilities      ...       ScreenPorch PoolArea PoolQC  Fence  \\\n",
       "0         Lvl    AllPub      ...               120        0    NaN  MnPrv   \n",
       "1         Lvl    AllPub      ...                 0        0    NaN    NaN   \n",
       "2         Lvl    AllPub      ...                 0        0    NaN  MnPrv   \n",
       "3         Lvl    AllPub      ...                 0        0    NaN    NaN   \n",
       "4         HLS    AllPub      ...               144        0    NaN    NaN   \n",
       "\n",
       "  MiscFeature MiscVal MoSold  YrSold  SaleType  SaleCondition  \n",
       "0         NaN       0      6    2010        WD         Normal  \n",
       "1        Gar2   12500      6    2010        WD         Normal  \n",
       "2         NaN       0      3    2010        WD         Normal  \n",
       "3         NaN       0      6    2010        WD         Normal  \n",
       "4         NaN       0      1    2010        WD         Normal  \n",
       "\n",
       "[5 rows x 80 columns]"
      ]
     },
     "execution_count": 7,
     "metadata": {},
     "output_type": "execute_result"
    }
   ],
   "source": [
    "df = pd.read_csv(\"../ames/test.csv\")\n",
    "df.head()"
   ]
  },
  {
   "cell_type": "code",
   "execution_count": 8,
   "metadata": {},
   "outputs": [],
   "source": [
    "arr1 = df.columns.values\n",
    "arr2 = df.columns.values"
   ]
  },
  {
   "cell_type": "code",
   "execution_count": 5,
   "metadata": {},
   "outputs": [],
   "source": [
    "arr1 = pd.Series(df.columns.values).str.lower()\n",
    "arr2 = pd.Series(df.columns.values).str.lower()"
   ]
  },
  {
   "cell_type": "code",
   "execution_count": 9,
   "metadata": {},
   "outputs": [
    {
     "data": {
      "text/plain": [
       "array(['Id', 'MSSubClass', 'MSZoning', 'LotFrontage', 'LotArea', 'Street',\n",
       "       'Alley', 'LotShape', 'LandContour', 'Utilities', 'LotConfig',\n",
       "       'LandSlope', 'Neighborhood', 'Condition1', 'Condition2',\n",
       "       'BldgType', 'HouseStyle', 'OverallQual', 'OverallCond',\n",
       "       'YearBuilt', 'YearRemodAdd', 'RoofStyle', 'RoofMatl',\n",
       "       'Exterior1st', 'Exterior2nd', 'MasVnrType', 'MasVnrArea',\n",
       "       'ExterQual', 'ExterCond', 'Foundation', 'BsmtQual', 'BsmtCond',\n",
       "       'BsmtExposure', 'BsmtFinType1', 'BsmtFinSF1', 'BsmtFinType2',\n",
       "       'BsmtFinSF2', 'BsmtUnfSF', 'TotalBsmtSF', 'Heating', 'HeatingQC',\n",
       "       'CentralAir', 'Electrical', '1stFlrSF', '2ndFlrSF', 'LowQualFinSF',\n",
       "       'GrLivArea', 'BsmtFullBath', 'BsmtHalfBath', 'FullBath',\n",
       "       'HalfBath', 'BedroomAbvGr', 'KitchenAbvGr', 'KitchenQual',\n",
       "       'TotRmsAbvGrd', 'Functional', 'Fireplaces', 'FireplaceQu',\n",
       "       'GarageType', 'GarageYrBlt', 'GarageFinish', 'GarageCars',\n",
       "       'GarageArea', 'GarageQual', 'GarageCond', 'PavedDrive',\n",
       "       'WoodDeckSF', 'OpenPorchSF', 'EnclosedPorch', '3SsnPorch',\n",
       "       'ScreenPorch', 'PoolArea', 'PoolQC', 'Fence', 'MiscFeature',\n",
       "       'MiscVal', 'MoSold', 'YrSold', 'SaleType', 'SaleCondition'],\n",
       "      dtype=object)"
      ]
     },
     "execution_count": 9,
     "metadata": {},
     "output_type": "execute_result"
    }
   ],
   "source": [
    "arr1"
   ]
  },
  {
   "cell_type": "code",
   "execution_count": 10,
   "metadata": {},
   "outputs": [],
   "source": [
    "from similarity.normalized_levenshtein import NormalizedLevenshtein\n",
    "normalized_levenshtein = NormalizedLevenshtein()"
   ]
  },
  {
   "cell_type": "code",
   "execution_count": 11,
   "metadata": {},
   "outputs": [
    {
     "data": {
      "text/plain": [
       "0    Exterior\n",
       "1       Porch\n",
       "2      Garage\n",
       "dtype: object"
      ]
     },
     "execution_count": 11,
     "metadata": {},
     "output_type": "execute_result"
    }
   ],
   "source": [
    "ontology = pd.Series(['Exterior', 'Porch', 'Garage'])\n",
    "ontology"
   ]
  },
  {
   "cell_type": "code",
   "execution_count": 12,
   "metadata": {},
   "outputs": [],
   "source": [
    "from similarity.normalized_levenshtein import NormalizedLevenshtein\n",
    "normalized_levenshtein = NormalizedLevenshtein()"
   ]
  },
  {
   "cell_type": "code",
   "execution_count": 23,
   "metadata": {},
   "outputs": [],
   "source": [
    "vectors = pd.DataFrame([[normalized_levenshtein.distance(word, field) for word in ontology] for field in arr1])"
   ]
  },
  {
   "cell_type": "code",
   "execution_count": 14,
   "metadata": {},
   "outputs": [],
   "source": [
    "from sklearn.cluster import KMeans\n",
    "clusters = len(ontology) + 1\n",
    "kmeans = KMeans(n_clusters=clusters, random_state=0).fit(vectors)"
   ]
  },
  {
   "cell_type": "code",
   "execution_count": 15,
   "metadata": {},
   "outputs": [
    {
     "data": {
      "text/plain": [
       "<Figure size 640x480 with 1 Axes>"
      ]
     },
     "metadata": {},
     "output_type": "display_data"
    }
   ],
   "source": [
    "from sklearn.decomposition import PCA\n",
    "pca = PCA(n_components=2)\n",
    "principalComponents = pca.fit_transform(vectors)\n",
    "pc = pd.DataFrame(data = principalComponents, columns = ['pc1', 'pc2'])\n",
    "pc.head()\n",
    "\n",
    "import matplotlib.pyplot as plt\n",
    "plt.scatter(pc['pc1'], pc['pc2'], c=kmeans.labels_)\n",
    "plt.show()"
   ]
  },
  {
   "cell_type": "code",
   "execution_count": 16,
   "metadata": {},
   "outputs": [],
   "source": [
    "import numpy as np\n",
    "\n",
    "def dist(x, y): # computationally effcient\n",
    "    return np.sqrt(np.dot(x, x) - 2 * np.dot(x, y) + np.dot(y, y))\n",
    "\n",
    "def mean_dist(DF, X):\n",
    "    dists = DF.apply(dist, args=(X, ), axis=1)\n",
    "    return dists.mean()"
   ]
  },
  {
   "cell_type": "code",
   "execution_count": 17,
   "metadata": {},
   "outputs": [],
   "source": [
    "#pd.DataFrame(vectors)[1] #kmeans.labels_"
   ]
  },
  {
   "cell_type": "code",
   "execution_count": 18,
   "metadata": {},
   "outputs": [
    {
     "name": "stdout",
     "output_type": "stream",
     "text": [
      "Cluster 0:\n",
      "Mean Dist to Centroid: \n",
      "0.1437996244187957\n",
      "0      LotFrontage\n",
      "1       MasVnrType\n",
      "2       MasVnrArea\n",
      "3       Fireplaces\n",
      "4      FireplaceQu\n",
      "5       GarageType\n",
      "6      GarageYrBlt\n",
      "7     GarageFinish\n",
      "8       GarageCars\n",
      "9       GarageArea\n",
      "10      GarageQual\n",
      "11      GarageCond\n",
      "dtype: object\n",
      "\n",
      "\n",
      "Cluster 1:\n",
      "Mean Dist to Centroid: \n",
      "0.169235472077862\n",
      "0           LotArea\n",
      "1            Street\n",
      "2          LotShape\n",
      "3        Electrical\n",
      "4      KitchenAbvGr\n",
      "5       KitchenQual\n",
      "6        PavedDrive\n",
      "7       OpenPorchSF\n",
      "8     EnclosedPorch\n",
      "9         3SsnPorch\n",
      "10      ScreenPorch\n",
      "11         PoolArea\n",
      "12           PoolQC\n",
      "13            Fence\n",
      "dtype: object\n",
      "\n",
      "\n",
      "Cluster 2:\n",
      "Mean Dist to Centroid: \n",
      "0.11533674891921138\n",
      "0                Id\n",
      "1        MSSubClass\n",
      "2          MSZoning\n",
      "3             Alley\n",
      "4       LandContour\n",
      "5         Utilities\n",
      "6         LotConfig\n",
      "7         LandSlope\n",
      "8      Neighborhood\n",
      "9        Condition1\n",
      "10       Condition2\n",
      "11         BldgType\n",
      "12       HouseStyle\n",
      "13      OverallQual\n",
      "14      OverallCond\n",
      "15        YearBuilt\n",
      "16     YearRemodAdd\n",
      "17        RoofStyle\n",
      "18         RoofMatl\n",
      "19       Foundation\n",
      "20         BsmtQual\n",
      "21         BsmtCond\n",
      "22     BsmtExposure\n",
      "23     BsmtFinType1\n",
      "24       BsmtFinSF1\n",
      "25     BsmtFinType2\n",
      "26       BsmtFinSF2\n",
      "27        BsmtUnfSF\n",
      "28      TotalBsmtSF\n",
      "29          Heating\n",
      "30        HeatingQC\n",
      "31       CentralAir\n",
      "32         1stFlrSF\n",
      "33         2ndFlrSF\n",
      "34     LowQualFinSF\n",
      "35        GrLivArea\n",
      "36     BsmtFullBath\n",
      "37     BsmtHalfBath\n",
      "38         FullBath\n",
      "39         HalfBath\n",
      "40     BedroomAbvGr\n",
      "41     TotRmsAbvGrd\n",
      "42       Functional\n",
      "43       WoodDeckSF\n",
      "44      MiscFeature\n",
      "45          MiscVal\n",
      "46           MoSold\n",
      "47           YrSold\n",
      "48         SaleType\n",
      "49    SaleCondition\n",
      "dtype: object\n",
      "\n",
      "\n",
      "Cluster 3:\n",
      "Mean Dist to Centroid: \n",
      "0.07344323499755852\n",
      "0    Exterior1st\n",
      "1    Exterior2nd\n",
      "2      ExterQual\n",
      "3      ExterCond\n",
      "dtype: object\n",
      "\n",
      "\n"
     ]
    }
   ],
   "source": [
    "for i in range(clusters):\n",
    "    print(\"Cluster \" + str(i) + \":\")\n",
    "    print(\"Mean Dist to Centroid: \")\n",
    "    print(mean_dist(vectors[kmeans.labels_==i], \n",
    "                    kmeans.cluster_centers_[i]))\n",
    "    \n",
    "    print(pd.Series(arr1[kmeans.labels_==i]))\n",
    "    print('\\n')"
   ]
  },
  {
   "cell_type": "code",
   "execution_count": 24,
   "metadata": {},
   "outputs": [],
   "source": [
    "from sklearn.cluster import AgglomerativeClustering\n",
    "\n",
    "clusters = len(ontology) + 1\n",
    "agg = AgglomerativeClustering(affinity='euclidean', compute_full_tree='auto',\n",
    "            connectivity=None, linkage='ward', memory=None, n_clusters=clusters,\n",
    "            pooling_func='deprecated').fit(vectors)"
   ]
  },
  {
   "cell_type": "code",
   "execution_count": 25,
   "metadata": {},
   "outputs": [
    {
     "data": {
      "image/png": "[encoded data removed]",
      "text/plain": [
       "<Figure size 432x288 with 1 Axes>"
      ]
     },
     "metadata": {
      "needs_background": "light"
     },
     "output_type": "display_data"
    }
   ],
   "source": [
    "plt.scatter(pc['pc1'], pc['pc2'], c=agg.labels_)\n",
    "plt.show()"
   ]
  },
  {
   "cell_type": "code",
   "execution_count": 61,
   "metadata": {},
   "outputs": [
    {
     "name": "stdout",
     "output_type": "stream",
     "text": [
      "Cluster 0:\n",
      "Unclassified\n",
      "0                Id\n",
      "1        MSSubClass\n",
      "2          MSZoning\n",
      "3       LotFrontage\n",
      "4           LotArea\n",
      "5            Street\n",
      "6             Alley\n",
      "7          LotShape\n",
      "8       LandContour\n",
      "9         Utilities\n",
      "10        LotConfig\n",
      "11        LandSlope\n",
      "12     Neighborhood\n",
      "13       Condition1\n",
      "14       Condition2\n",
      "15         BldgType\n",
      "16       HouseStyle\n",
      "17      OverallQual\n",
      "18      OverallCond\n",
      "19        YearBuilt\n",
      "20     YearRemodAdd\n",
      "21        RoofStyle\n",
      "22         RoofMatl\n",
      "23       MasVnrType\n",
      "24       MasVnrArea\n",
      "25       Foundation\n",
      "26         BsmtQual\n",
      "27         BsmtCond\n",
      "28     BsmtExposure\n",
      "29     BsmtFinType1\n",
      "          ...      \n",
      "33        BsmtUnfSF\n",
      "34      TotalBsmtSF\n",
      "35          Heating\n",
      "36        HeatingQC\n",
      "37       CentralAir\n",
      "38       Electrical\n",
      "39         1stFlrSF\n",
      "40         2ndFlrSF\n",
      "41     LowQualFinSF\n",
      "42        GrLivArea\n",
      "43     BsmtFullBath\n",
      "44     BsmtHalfBath\n",
      "45         FullBath\n",
      "46         HalfBath\n",
      "47     BedroomAbvGr\n",
      "48     KitchenAbvGr\n",
      "49      KitchenQual\n",
      "50     TotRmsAbvGrd\n",
      "51       Functional\n",
      "52       Fireplaces\n",
      "53      FireplaceQu\n",
      "54       PavedDrive\n",
      "55       WoodDeckSF\n",
      "56            Fence\n",
      "57      MiscFeature\n",
      "58          MiscVal\n",
      "59           MoSold\n",
      "60           YrSold\n",
      "61         SaleType\n",
      "62    SaleCondition\n",
      "Length: 63, dtype: object\n",
      "\n",
      "\n",
      "Cluster 1:\n",
      "Porch\n",
      "0      OpenPorchSF\n",
      "1    EnclosedPorch\n",
      "2        3SsnPorch\n",
      "3      ScreenPorch\n",
      "4         PoolArea\n",
      "5           PoolQC\n",
      "dtype: object\n",
      "\n",
      "\n",
      "Cluster 2:\n",
      "Exterior\n",
      "0    Exterior1st\n",
      "1    Exterior2nd\n",
      "2      ExterQual\n",
      "3      ExterCond\n",
      "dtype: object\n",
      "\n",
      "\n",
      "Cluster 3:\n",
      "Garage\n",
      "0      GarageType\n",
      "1     GarageYrBlt\n",
      "2    GarageFinish\n",
      "3      GarageCars\n",
      "4      GarageArea\n",
      "5      GarageQual\n",
      "6      GarageCond\n",
      "dtype: object\n",
      "\n",
      "\n"
     ]
    }
   ],
   "source": [
    "\n",
    "unclassified_index = pd.Series([vectors[agg.labels_ == i].mean().min() for i in range(clusters)]).idxmax()\n",
    "\n",
    "for i in range(clusters):\n",
    "    print(\"Cluster \" + str(i) + \":\")\n",
    "    print(\"Unclassified\" if i == unclassified_index else ontology[vectors[agg.labels_ == i].mean().idxmin()])\n",
    "    \n",
    "    print(pd.Series(arr1[agg.labels_==i]))\n",
    "    \n",
    "    print('\\n')"
   ]
  },
  {
   "cell_type": "code",
   "execution_count": null,
   "metadata": {},
   "outputs": [],
   "source": [
    "\n"
   ]
  },
  {
   "cell_type": "code",
   "execution_count": null,
   "metadata": {},
   "outputs": [],
   "source": [
    "\n"
   ]
  },
  {
   "cell_type": "code",
   "execution_count": 57,
   "metadata": {},
   "outputs": [],
   "source": []
  },
  {
   "cell_type": "code",
   "execution_count": null,
   "metadata": {},
   "outputs": [],
   "source": []
  }
 ],
 "metadata": {
  "kernelspec": {
   "display_name": "Python 3",
   "language": "python",
   "name": "python3"
  },
  "language_info": {
   "codemirror_mode": {
    "name": "ipython",
    "version": 3
   },
   "file_extension": ".py",
   "mimetype": "text/x-python",
   "name": "python",
   "nbconvert_exporter": "python",
   "pygments_lexer": "ipython3",
   "version": "3.6.6"
  }
 },
 "nbformat": 4,
 "nbformat_minor": 2
}
